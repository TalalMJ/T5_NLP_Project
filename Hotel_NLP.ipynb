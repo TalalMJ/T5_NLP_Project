{
 "cells": [
  {
   "cell_type": "code",
   "execution_count": 7,
   "metadata": {},
   "outputs": [],
   "source": [
    "import pandas as pd\n",
    "import numpy as np\n",
    "import pickle\n",
    "import seaborn as sns\n",
    "import spacy\n",
    "import csv\n",
    "import nltk\n",
    "import matplotlib.pyplot as plt\n",
    "import warnings\n",
    "import re\n",
    "import string\n",
    "from sklearn.model_selection import train_test_split\n",
    "from sklearn.feature_extraction.text import CountVectorizer,TfidfVectorizer\n",
    "from sklearn.metrics import accuracy_score, confusion_matrix\n",
    "from sklearn.preprocessing import StandardScaler\n",
    "from sklearn.cluster import DBSCAN, SpectralClustering, MeanShift\n",
    "from sklearn.decomposition import PCA,TruncatedSVD,NMF\n",
    "from sklearn import svm\n",
    "from sklearn.feature_extraction import text\n",
    "from sklearn.metrics.pairwise import cosine_similarity\n",
    "from nltk.tokenize import word_tokenize\n",
    "from sklearn.linear_model import LogisticRegression\n",
    "from sklearn.naive_bayes import BernoulliNB\n",
    "from sklearn.metrics import precision_score, recall_score, accuracy_score, roc_auc_score, roc_curve,confusion_matrix, f1_score\n",
    "from nltk.corpus import stopwords\n",
    "from autocorrect import Speller\n",
    "from matplotlib import pyplot as plt\n",
    "from corextopic import corextopic as ct\n",
    "from corextopic import vis_topic as vt\n",
    "from collections import Counter,Counter,defaultdict\n",
    "from scipy.linalg import svd\n",
    "from sklearn.tree import DecisionTreeClassifier\n",
    "spell = Speller(lang='en')\n",
    "%matplotlib inline\n",
    "warnings.filterwarnings('ignore')\n",
    "sns.set_style(\"whitegrid\")"
   ]
  },
  {
   "cell_type": "code",
   "execution_count": 13,
   "metadata": {},
   "outputs": [],
   "source": [
    "df_original_data = pd.read_csv('Hotel_Reviews.csv')\n",
    "df_all_data = df_original_data.copy()\n"
   ]
  },
  {
   "cell_type": "code",
   "execution_count": 14,
   "metadata": {},
   "outputs": [],
   "source": [
    "def get_contries():\n",
    "    df_all_data['Country'] = df_all_data.Hotel_Address.apply(lambda x: str(x).split(\" \")[-1])\n",
    "    df_all_data['Country'] = df_all_data['Country'].str.replace('Kingdom','United Kingdom')\n",
    "get_contries()"
   ]
  },
  {
   "cell_type": "code",
   "execution_count": 15,
   "metadata": {},
   "outputs": [
    {
     "data": {
      "text/plain": [
       "array(['Netherlands', 'United Kingdom', 'France', 'Spain', 'Italy',\n",
       "       'Austria'], dtype=object)"
      ]
     },
     "execution_count": 15,
     "metadata": {},
     "output_type": "execute_result"
    }
   ],
   "source": [
    "df_all_data['Country'].unique()"
   ]
  },
  {
   "cell_type": "code",
   "execution_count": 16,
   "metadata": {},
   "outputs": [
    {
     "data": {
      "text/plain": [
       "United Kingdom    262301\n",
       "Spain              60149\n",
       "France             59928\n",
       "Netherlands        57214\n",
       "Austria            38939\n",
       "Italy              37207\n",
       "Name: Country, dtype: int64"
      ]
     },
     "execution_count": 16,
     "metadata": {},
     "output_type": "execute_result"
    }
   ],
   "source": [
    "df_all_data['Country'].value_counts()"
   ]
  },
  {
   "cell_type": "code",
   "execution_count": 17,
   "metadata": {},
   "outputs": [],
   "source": [
    "df_pos = df_all_data[['Positive_Review','Hotel_Name','Country','Reviewer_Score','Reviewer_Nationality']]\n",
    "df_neg = df_all_data[['Negative_Review','Hotel_Name','Country','Reviewer_Score','Reviewer_Nationality']]\n",
    "df_recom = df_all_data[['Reviewer_Nationality','Hotel_Name','Reviewer_Score']]"
   ]
  },
  {
   "cell_type": "code",
   "execution_count": 18,
   "metadata": {},
   "outputs": [],
   "source": [
    "df_pos.rename(columns = {'Positive_Review':'Review'},inplace= True)\n",
    "df_neg.rename(columns = {'Negative_Review':'Review'},inplace= True)"
   ]
  },
  {
   "cell_type": "code",
   "execution_count": 19,
   "metadata": {},
   "outputs": [],
   "source": [
    "df_pos['Sentiment'] = 1\n",
    "df_neg['Sentiment'] = 0\n",
    "df_all = pd.concat([df_pos,df_neg],ignore_index=True)\n",
    "df_drop = df_all.drop_duplicates()"
   ]
  },
  {
   "cell_type": "code",
   "execution_count": 20,
   "metadata": {},
   "outputs": [],
   "source": [
    "df_drop = df_drop[df_drop['Review'].map(lambda x: x.isascii())]"
   ]
  },
  {
   "cell_type": "code",
   "execution_count": 21,
   "metadata": {},
   "outputs": [
    {
     "data": {
      "text/html": [
       "<div>\n",
       "<style scoped>\n",
       "    .dataframe tbody tr th:only-of-type {\n",
       "        vertical-align: middle;\n",
       "    }\n",
       "\n",
       "    .dataframe tbody tr th {\n",
       "        vertical-align: top;\n",
       "    }\n",
       "\n",
       "    .dataframe thead th {\n",
       "        text-align: right;\n",
       "    }\n",
       "</style>\n",
       "<table border=\"1\" class=\"dataframe\">\n",
       "  <thead>\n",
       "    <tr style=\"text-align: right;\">\n",
       "      <th></th>\n",
       "      <th>Review</th>\n",
       "      <th>Hotel_Name</th>\n",
       "      <th>Country</th>\n",
       "      <th>Reviewer_Score</th>\n",
       "      <th>Reviewer_Nationality</th>\n",
       "      <th>Sentiment</th>\n",
       "    </tr>\n",
       "  </thead>\n",
       "  <tbody>\n",
       "    <tr>\n",
       "      <th>0</th>\n",
       "      <td>only the park outside of the hotel was beauti...</td>\n",
       "      <td>Hotel Arena</td>\n",
       "      <td>Netherlands</td>\n",
       "      <td>2.9</td>\n",
       "      <td>Russia</td>\n",
       "      <td>1</td>\n",
       "    </tr>\n",
       "    <tr>\n",
       "      <th>1</th>\n",
       "      <td>no real complaints the hotel was great great ...</td>\n",
       "      <td>Hotel Arena</td>\n",
       "      <td>Netherlands</td>\n",
       "      <td>7.5</td>\n",
       "      <td>Ireland</td>\n",
       "      <td>1</td>\n",
       "    </tr>\n",
       "    <tr>\n",
       "      <th>2</th>\n",
       "      <td>location was good and staff were ok it is cut...</td>\n",
       "      <td>Hotel Arena</td>\n",
       "      <td>Netherlands</td>\n",
       "      <td>7.1</td>\n",
       "      <td>Australia</td>\n",
       "      <td>1</td>\n",
       "    </tr>\n",
       "    <tr>\n",
       "      <th>3</th>\n",
       "      <td>great location in nice surroundings the bar a...</td>\n",
       "      <td>Hotel Arena</td>\n",
       "      <td>Netherlands</td>\n",
       "      <td>3.8</td>\n",
       "      <td>United Kingdom</td>\n",
       "      <td>1</td>\n",
       "    </tr>\n",
       "    <tr>\n",
       "      <th>4</th>\n",
       "      <td>amazing location and building romantic setting</td>\n",
       "      <td>Hotel Arena</td>\n",
       "      <td>Netherlands</td>\n",
       "      <td>6.7</td>\n",
       "      <td>New Zealand</td>\n",
       "      <td>1</td>\n",
       "    </tr>\n",
       "    <tr>\n",
       "      <th>...</th>\n",
       "      <td>...</td>\n",
       "      <td>...</td>\n",
       "      <td>...</td>\n",
       "      <td>...</td>\n",
       "      <td>...</td>\n",
       "      <td>...</td>\n",
       "    </tr>\n",
       "    <tr>\n",
       "      <th>1031471</th>\n",
       "      <td>no trolly or staff to help you take the lugga...</td>\n",
       "      <td>Atlantis Hotel Vienna</td>\n",
       "      <td>Austria</td>\n",
       "      <td>7.0</td>\n",
       "      <td>Kuwait</td>\n",
       "      <td>0</td>\n",
       "    </tr>\n",
       "    <tr>\n",
       "      <th>1031472</th>\n",
       "      <td>the hotel looks like but surely not</td>\n",
       "      <td>Atlantis Hotel Vienna</td>\n",
       "      <td>Austria</td>\n",
       "      <td>5.8</td>\n",
       "      <td>Estonia</td>\n",
       "      <td>0</td>\n",
       "    </tr>\n",
       "    <tr>\n",
       "      <th>1031473</th>\n",
       "      <td>the ac was useless it was a hot week in vienn...</td>\n",
       "      <td>Atlantis Hotel Vienna</td>\n",
       "      <td>Austria</td>\n",
       "      <td>2.5</td>\n",
       "      <td>Egypt</td>\n",
       "      <td>0</td>\n",
       "    </tr>\n",
       "    <tr>\n",
       "      <th>1031474</th>\n",
       "      <td>no negative</td>\n",
       "      <td>Atlantis Hotel Vienna</td>\n",
       "      <td>Austria</td>\n",
       "      <td>8.8</td>\n",
       "      <td>Mexico</td>\n",
       "      <td>0</td>\n",
       "    </tr>\n",
       "    <tr>\n",
       "      <th>1031475</th>\n",
       "      <td>i was in floor it didn t work free wife</td>\n",
       "      <td>Atlantis Hotel Vienna</td>\n",
       "      <td>Austria</td>\n",
       "      <td>8.3</td>\n",
       "      <td>Hungary</td>\n",
       "      <td>0</td>\n",
       "    </tr>\n",
       "  </tbody>\n",
       "</table>\n",
       "<p>939223 rows × 6 columns</p>\n",
       "</div>"
      ],
      "text/plain": [
       "                                                    Review  \\\n",
       "0         only the park outside of the hotel was beauti...   \n",
       "1         no real complaints the hotel was great great ...   \n",
       "2         location was good and staff were ok it is cut...   \n",
       "3         great location in nice surroundings the bar a...   \n",
       "4          amazing location and building romantic setting    \n",
       "...                                                    ...   \n",
       "1031471   no trolly or staff to help you take the lugga...   \n",
       "1031472               the hotel looks like but surely not    \n",
       "1031473   the ac was useless it was a hot week in vienn...   \n",
       "1031474                                        no negative   \n",
       "1031475           i was in floor it didn t work free wife    \n",
       "\n",
       "                    Hotel_Name      Country  Reviewer_Score  \\\n",
       "0                  Hotel Arena  Netherlands             2.9   \n",
       "1                  Hotel Arena  Netherlands             7.5   \n",
       "2                  Hotel Arena  Netherlands             7.1   \n",
       "3                  Hotel Arena  Netherlands             3.8   \n",
       "4                  Hotel Arena  Netherlands             6.7   \n",
       "...                        ...          ...             ...   \n",
       "1031471  Atlantis Hotel Vienna      Austria             7.0   \n",
       "1031472  Atlantis Hotel Vienna      Austria             5.8   \n",
       "1031473  Atlantis Hotel Vienna      Austria             2.5   \n",
       "1031474  Atlantis Hotel Vienna      Austria             8.8   \n",
       "1031475  Atlantis Hotel Vienna      Austria             8.3   \n",
       "\n",
       "        Reviewer_Nationality  Sentiment  \n",
       "0                    Russia           1  \n",
       "1                   Ireland           1  \n",
       "2                 Australia           1  \n",
       "3            United Kingdom           1  \n",
       "4               New Zealand           1  \n",
       "...                      ...        ...  \n",
       "1031471              Kuwait           0  \n",
       "1031472             Estonia           0  \n",
       "1031473               Egypt           0  \n",
       "1031474              Mexico           0  \n",
       "1031475             Hungary           0  \n",
       "\n",
       "[939223 rows x 6 columns]"
      ]
     },
     "execution_count": 21,
     "metadata": {},
     "output_type": "execute_result"
    }
   ],
   "source": [
    "alphanumeric = lambda x: re.sub('\\w*\\d\\w*', ' ', x)\n",
    "punc_lower = lambda x: re.sub('[%s]' % re.escape(string.punctuation), ' ', x.lower())\n",
    "repeated_chars = lambda x: re.sub('(.)\\\\1{2,}', '\\\\1', x)\n",
    "df_drop['Review'] = df_drop.Review.map(alphanumeric).map(punc_lower).map(repeated_chars)\n",
    "df_drop"
   ]
  },
  {
   "cell_type": "code",
   "execution_count": 22,
   "metadata": {},
   "outputs": [],
   "source": [
    "data_sample = df_drop.sample(100000,random_state=2021)"
   ]
  },
  {
   "cell_type": "code",
   "execution_count": null,
   "metadata": {},
   "outputs": [],
   "source": [
    "data_sample['Review'] = data_sample['Review'].map(lambda x: spell(x))"
   ]
  },
  {
   "cell_type": "code",
   "execution_count": null,
   "metadata": {},
   "outputs": [],
   "source": [
    "file = open('data100000', 'rb')\n",
    "data_sample = pickle.load(file)\n",
    "file.close()"
   ]
  },
  {
   "cell_type": "code",
   "execution_count": null,
   "metadata": {},
   "outputs": [],
   "source": [
    "df_drop"
   ]
  },
  {
   "cell_type": "code",
   "execution_count": null,
   "metadata": {},
   "outputs": [],
   "source": [
    "data_sample"
   ]
  },
  {
   "cell_type": "code",
   "execution_count": null,
   "metadata": {},
   "outputs": [],
   "source": [
    "w_tokenizer = nltk.tokenize.WhitespaceTokenizer()\n",
    "lemmatizer = nltk.stem.WordNetLemmatizer()\n",
    "\n",
    "def lemmatize_text(text):\n",
    "    return [lemmatizer.lemmatize(w) for w in w_tokenizer.tokenize(text)]\n",
    "\n",
    "data_sample['text_lemmatized'] = data_sample.Review.apply(lemmatize_text)"
   ]
  },
  {
   "cell_type": "code",
   "execution_count": null,
   "metadata": {},
   "outputs": [],
   "source": [
    "data_sample['Joined_text_lemmatize'] =  data_sample['text_lemmatized'].apply(lambda x: ' '.join(x))"
   ]
  },
  {
   "cell_type": "code",
   "execution_count": null,
   "metadata": {},
   "outputs": [],
   "source": [
    "nlp = spacy.load('en_core_web_sm')\n",
    "data_sample['spacy_doc'] = list(nlp.pipe(data_sample.Joined_text_lemmatize))\n",
    "data_sample"
   ]
  },
  {
   "cell_type": "markdown",
   "metadata": {},
   "source": [
    "# Topicing"
   ]
  },
  {
   "cell_type": "code",
   "execution_count": null,
   "metadata": {},
   "outputs": [],
   "source": [
    "Positive = open('wordpo', 'rb')\n",
    "Negative = open('wordne', 'rb')\n",
    "wordss = pickle.load(Positive)\n",
    "words_neg = pickle.load(Negative)\n",
    "Positive.close()\n",
    "Negative.close()"
   ]
  },
  {
   "cell_type": "code",
   "execution_count": null,
   "metadata": {},
   "outputs": [],
   "source": [
    "positive_reviews = data_sample[data_sample.Sentiment==1]\n",
    "negative_reviews = data_sample[data_sample.Sentiment==0]"
   ]
  },
  {
   "cell_type": "code",
   "execution_count": null,
   "metadata": {},
   "outputs": [],
   "source": [
    "sam_pos_df = positive_reviews.copy()\n",
    "sam_neg_df = negative_reviews.copy()"
   ]
  },
  {
   "cell_type": "code",
   "execution_count": null,
   "metadata": {},
   "outputs": [],
   "source": [
    "sam_pos_df['Review'] = sam_pos_df['Review'].str.replace(\"hotel\" , \"\")\n",
    "sam_neg_df['Review'] = sam_neg_df['Review'].str.replace(\"hotel\" , \"\")"
   ]
  },
  {
   "cell_type": "markdown",
   "metadata": {},
   "source": [
    "## WordCloud for positive"
   ]
  },
  {
   "cell_type": "code",
   "execution_count": null,
   "metadata": {},
   "outputs": [],
   "source": [
    "from wordcloud import WordCloud\n",
    "\n",
    "long_string = ','.join(list(sam_pos_df['Review'].values))\n",
    "wordcloud = WordCloud(background_color=\"white\", max_words=500, contour_width=3, contour_color='steelblue', width=800, height=400)\n",
    "wordcloud.generate(long_string)\n",
    "wordcloud.to_image()"
   ]
  },
  {
   "cell_type": "markdown",
   "metadata": {},
   "source": [
    "## WordCloud for negative"
   ]
  },
  {
   "cell_type": "code",
   "execution_count": null,
   "metadata": {},
   "outputs": [],
   "source": [
    "long_string = ','.join(list(sam_neg_df['Review'].values))\n",
    "wordcloud = WordCloud(background_color=\"white\", max_words=500, contour_width=3, contour_color='steelblue', width=800, height=400)\n",
    "wordcloud.generate(long_string)\n",
    "wordcloud.to_image()"
   ]
  },
  {
   "cell_type": "code",
   "execution_count": null,
   "metadata": {},
   "outputs": [],
   "source": []
  }
 ],
 "metadata": {
  "kernelspec": {
   "display_name": "Python 3",
   "language": "python",
   "name": "python3"
  },
  "language_info": {
   "codemirror_mode": {
    "name": "ipython",
    "version": 3
   },
   "file_extension": ".py",
   "mimetype": "text/x-python",
   "name": "python",
   "nbconvert_exporter": "python",
   "pygments_lexer": "ipython3",
   "version": "3.8.5"
  }
 },
 "nbformat": 4,
 "nbformat_minor": 4
}
